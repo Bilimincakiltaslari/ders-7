{
 "cells": [
  {
   "cell_type": "code",
   "execution_count": 21,
   "metadata": {},
   "outputs": [],
   "source": [
    "a = \"berk\"\n",
    "b = \"akif\"\n",
    "c = \"ela\"\n",
    "d = \"duru\"\n",
    "e = \"bahadır\"\n",
    "f = \"nihan\""
   ]
  },
  {
   "cell_type": "code",
   "execution_count": 22,
   "metadata": {},
   "outputs": [
    {
     "name": "stdout",
     "output_type": "stream",
     "text": [
      "1. berk 2. akif 3. ela 4. duru  5. bahadır  6.  nihan\n"
     ]
    }
   ],
   "source": [
    "print(\"1. {} 2. {} 3. {} 4. {}  5. {}  6.  {}\".format(a,b,c,d,e,f))"
   ]
  },
  {
   "cell_type": "code",
   "execution_count": null,
   "metadata": {},
   "outputs": [],
   "source": []
  },
  {
   "cell_type": "code",
   "execution_count": null,
   "metadata": {},
   "outputs": [],
   "source": []
  },
  {
   "cell_type": "code",
   "execution_count": 1,
   "metadata": {},
   "outputs": [
    {
     "name": "stdout",
     "output_type": "stream",
     "text": [
      "Aytek,Uğur,Şen\n"
     ]
    }
   ],
   "source": [
    "print(\"Aytek,Uğur,Şen\")"
   ]
  },
  {
   "cell_type": "code",
   "execution_count": 26,
   "metadata": {
    "scrolled": true
   },
   "outputs": [
    {
     "name": "stdout",
     "output_type": "stream",
     "text": [
      "A\ty\tt\te\tk\tUğur\tŞen\n"
     ]
    }
   ],
   "source": [
    "print(*\"Aytek\",\"Uğur\",\"Şen\",sep = \"\\t\")"
   ]
  },
  {
   "cell_type": "code",
   "execution_count": 12,
   "metadata": {},
   "outputs": [
    {
     "name": "stdout",
     "output_type": "stream",
     "text": [
      "0.42857142857142855 1.3888888888888888\n"
     ]
    }
   ],
   "source": [
    "a = 3/7\n",
    "b =125/90\n",
    "print (a,b)"
   ]
  },
  {
   "cell_type": "code",
   "execution_count": 19,
   "metadata": {},
   "outputs": [
    {
     "name": "stdout",
     "output_type": "stream",
     "text": [
      "0.43 + 1.39 toplamıda 1.82 dir.\n"
     ]
    }
   ],
   "source": [
    "a = 3/7\n",
    "b =125/90\n",
    "print(\"{:.2f} + {:.2f} toplamıda {:.2f} dir.\".format(a,b,a+b))"
   ]
  },
  {
   "cell_type": "code",
   "execution_count": 25,
   "metadata": {},
   "outputs": [
    {
     "name": "stdout",
     "output_type": "stream",
     "text": [
      "3 * 125 = 375\n"
     ]
    }
   ],
   "source": [
    "a = 3\n",
    "b = 125\n",
    "print(\"{} * {} = {}\".format(a,b,a*b))"
   ]
  },
  {
   "cell_type": "code",
   "execution_count": null,
   "metadata": {},
   "outputs": [],
   "source": [
    "for i in range(1,11):\n",
    "    print(i)"
   ]
  },
  {
   "cell_type": "code",
   "execution_count": null,
   "metadata": {},
   "outputs": [],
   "source": [
    "for i in range(1,11):\n",
    "    print(\"-----------\")\n",
    "    print(\"{}'ler\".format(i))\n",
    "    print(\"-----------\")\n",
    "    for k in range(1,11):\n",
    "        print(\"{} x {} = {}\".format(i, k, i*k))"
   ]
  },
  {
   "cell_type": "code",
   "execution_count": null,
   "metadata": {},
   "outputs": [],
   "source": [
    "sayac = 0\n",
    "while sayac <= 100:\n",
    "        sayac = sayac + 1"
   ]
  },
  {
   "cell_type": "code",
   "execution_count": null,
   "metadata": {},
   "outputs": [],
   "source": [
    "c = int(input(\"toplama için 1\\nçıkarma için 2\\nçarpma için 3\\nbölme için 4\\ntuşuna basın\\n\"))\n",
    "a = int(input(\"1. sayıyı giriniz\"))\n",
    "b = int(input(\"2. sayıyı giriniz\"))\n",
    "\n",
    "if c == 1:\n",
    "    print(\"{} + {} sayılarının toplamı = {} olur\".format(a,b,a+b))\n",
    "if c == 2:\n",
    "    print(\"{} - {} sayılarının farkı = {} olur\".format(a,b,a-b))\n",
    "elif c == 3:\n",
    "    print(\"{} * {} sayılarının çarpımı = {} olur\".format(a,b,a*b))\n",
    "elif c == 4:\n",
    "    print(\"{} / {} sayılarının bölümü = {} olur\".format(a,b,a/b))\n",
    "elif c >= 5 or c <= 0:\n",
    "    print(\"Lütfen geçerli bir işlem sayısı giriniz\\ntoplama için 1\\nçıkarma için 2\\nçarpma için 3\\nbölme için 4 tuşuna basın\")"
   ]
  },
  {
   "cell_type": "code",
   "execution_count": null,
   "metadata": {},
   "outputs": [],
   "source": []
  }
 ],
 "metadata": {
  "kernelspec": {
   "display_name": "Python 3",
   "language": "python",
   "name": "python3"
  },
  "language_info": {
   "codemirror_mode": {
    "name": "ipython",
    "version": 3
   },
   "file_extension": ".py",
   "mimetype": "text/x-python",
   "name": "python",
   "nbconvert_exporter": "python",
   "pygments_lexer": "ipython3",
   "version": "3.7.3"
  }
 },
 "nbformat": 4,
 "nbformat_minor": 2
}
